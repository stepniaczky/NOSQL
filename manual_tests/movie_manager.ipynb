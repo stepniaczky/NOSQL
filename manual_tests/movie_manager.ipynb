{
 "cells": [
  {
   "cell_type": "code",
   "execution_count": 2,
   "metadata": {},
   "outputs": [],
   "source": [
    "import os\n",
    "os.chdir(\"..\")\n",
    "from src.db import config, get_collection\n",
    "from datetime import date\n",
    "\n",
    "config()"
   ]
  },
  {
   "cell_type": "code",
   "execution_count": 3,
   "metadata": {},
   "outputs": [],
   "source": [
    "from src.managers.movie_manager import MovieManager\n",
    "movie_manager = MovieManager()"
   ]
  },
  {
   "cell_type": "code",
   "execution_count": 3,
   "metadata": {},
   "outputs": [],
   "source": [
    "movie_manager.add_movie('Pulp Fiction', 'Dramat', 18, 1, 10)\n",
    "movie_manager.add_movie('Avatar', 'Action', 9, 2, 10)"
   ]
  },
  {
   "cell_type": "code",
   "execution_count": 4,
   "metadata": {},
   "outputs": [
    {
     "name": "stdout",
     "output_type": "stream",
     "text": [
      "Podana sala jest zajęta!\n"
     ]
    }
   ],
   "source": [
    "# Proba dodania filmu na ta sama sale\n",
    "movie_manager.add_movie('Avengers', 'Action', 3, 2, 10)"
   ]
  },
  {
   "cell_type": "code",
   "execution_count": 4,
   "metadata": {},
   "outputs": [
    {
     "name": "stdout",
     "output_type": "stream",
     "text": [
      "Szukany film: Title: \"Pulp Fiction\", Genre: (Dramat), Min age: 18, Hall: 1, Free slots: 10\n"
     ]
    }
   ],
   "source": [
    "movie = movie_manager.get_movie(hall = 1)\n",
    "print(\"Szukany film:\", movie)"
   ]
  },
  {
   "cell_type": "code",
   "execution_count": 7,
   "metadata": {},
   "outputs": [
    {
     "name": "stdout",
     "output_type": "stream",
     "text": [
      "Film o wskazanych parametrach nie istnieje!\n"
     ]
    }
   ],
   "source": [
    "# Proba znalezienia filmu o blednym id\n",
    "movie = movie_manager.get_movie(_id = 3)"
   ]
  },
  {
   "cell_type": "code",
   "execution_count": 9,
   "metadata": {},
   "outputs": [
    {
     "name": "stdout",
     "output_type": "stream",
     "text": [
      "Szukana lista: [Movie(title='Pulp Fiction', genre='Dramat', min_age=18, hall=1, free_slots=[True, True, True, True, True, True, True, True, True, True], _id=UUID('778b3b7c-8696-4a79-95f5-3d6f0ea4e931')), Movie(title='Avatar', genre='Action', min_age=9, hall=2, free_slots=[True, True, True, True, True, True, True, True, True, True], _id=UUID('2b456ba4-c527-4364-83d2-22c0988da239'))]\n"
     ]
    }
   ],
   "source": [
    "movies = movie_manager.get_all_movies()\n",
    "print(\"Szukana lista:\", movies)"
   ]
  },
  {
   "cell_type": "code",
   "execution_count": 5,
   "metadata": {},
   "outputs": [
    {
     "data": {
      "text/plain": [
       "UUID('c701b0a1-c69b-4c36-bf9c-c21524e7cba6')"
      ]
     },
     "execution_count": 5,
     "metadata": {},
     "output_type": "execute_result"
    }
   ],
   "source": [
    "movie._id"
   ]
  },
  {
   "cell_type": "code",
   "execution_count": 6,
   "metadata": {},
   "outputs": [
    {
     "name": "stdout",
     "output_type": "stream",
     "text": [
      "Pomyslnie usunieto film o UUID: c701b0a1-c69b-4c36-bf9c-c21524e7cba6\n"
     ]
    }
   ],
   "source": [
    "movie_manager.delete_movie(movie._id)"
   ]
  },
  {
   "cell_type": "code",
   "execution_count": null,
   "metadata": {},
   "outputs": [],
   "source": [
    "# Proba usuniecia filmu o blednym id\n",
    "movie_manager.delete_movie(100)"
   ]
  },
  {
   "cell_type": "code",
   "execution_count": 7,
   "metadata": {},
   "outputs": [
    {
     "name": "stdout",
     "output_type": "stream",
     "text": [
      "Lista po usunieciu: [Movie(title='Avatar', genre='Action', min_age=9, hall=2, free_slots=[True, True, True, True, True, True, True, True, True, True], _id=UUID('84d9299c-63ee-47ce-a57d-a8a8494669da'))]\n"
     ]
    }
   ],
   "source": [
    "movies = movie_manager.get_all_movies()\n",
    "print(\"Lista po usunieciu:\", movies)"
   ]
  },
  {
   "cell_type": "code",
   "execution_count": 8,
   "metadata": {},
   "outputs": [
    {
     "name": "stdout",
     "output_type": "stream",
     "text": [
      "Film o takim id nie istnieje!\n"
     ]
    },
    {
     "data": {
      "text/plain": [
       "[Movie(title='Avatar', genre='Action', min_age=9, hall=2, free_slots=[True, True, True, True, True, True, True, True, True, True], _id=UUID('84d9299c-63ee-47ce-a57d-a8a8494669da'))]"
      ]
     },
     "execution_count": 8,
     "metadata": {},
     "output_type": "execute_result"
    }
   ],
   "source": [
    "# Czyszczenie bazy\n",
    "movie_manager.delete_movie(2)\n",
    "movie_manager.get_all_movies()"
   ]
  },
  {
   "cell_type": "code",
   "execution_count": 4,
   "metadata": {},
   "outputs": [
    {
     "data": {
      "text/plain": [
       "1"
      ]
     },
     "execution_count": 4,
     "metadata": {},
     "output_type": "execute_result"
    }
   ],
   "source": [
    "movie_manager.get_size()"
   ]
  }
 ],
 "metadata": {
  "kernelspec": {
   "display_name": "Python 3.9.13 ('.venv': venv)",
   "language": "python",
   "name": "python3"
  },
  "language_info": {
   "codemirror_mode": {
    "name": "ipython",
    "version": 3
   },
   "file_extension": ".py",
   "mimetype": "text/x-python",
   "name": "python",
   "nbconvert_exporter": "python",
   "pygments_lexer": "ipython3",
   "version": "3.9.13"
  },
  "orig_nbformat": 4,
  "vscode": {
   "interpreter": {
    "hash": "1a3dcfdc6086f7ad2e1c7814093f153dafc84e88516604a39178048c87334baf"
   }
  }
 },
 "nbformat": 4,
 "nbformat_minor": 2
}
