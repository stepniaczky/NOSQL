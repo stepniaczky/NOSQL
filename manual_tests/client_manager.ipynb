{
 "cells": [
  {
   "cell_type": "code",
   "execution_count": 1,
   "metadata": {},
   "outputs": [],
   "source": [
    "import os\n",
    "os.chdir(\"..\")\n",
    "from src.db import config, get_collection\n",
    "from datetime import date\n",
    "\n",
    "config()"
   ]
  },
  {
   "cell_type": "code",
   "execution_count": 2,
   "metadata": {},
   "outputs": [],
   "source": [
    "from src.managers.client_manager import ClientManager\n",
    "\n",
    "client_manager = ClientManager()"
   ]
  },
  {
   "cell_type": "code",
   "execution_count": 3,
   "metadata": {},
   "outputs": [
    {
     "name": "stdout",
     "output_type": "stream",
     "text": [
      "Pomyslnie dodano klienta o UUID: 4c8d0639-7e12-4a89-8aed-1fff4e57be0f\n",
      "Pomyslnie dodano klienta o UUID: b446249a-02f6-4950-a9cd-feb9c2489a86\n",
      "Pomyslnie dodano klienta o UUID: 2bca1af3-b311-49a1-931e-bb90c2b8c7f5\n"
     ]
    }
   ],
   "source": [
    "client_manager.add_client('12345678901', 'Jan', 'Kowalski', '1/1/2010', False, 'Warszawa', 'Koszykowa', '1')\n",
    "client_manager.add_client('12345678902', 'Michal', 'Nowak', '1/1/2010', True, 'Lodz', 'Piotrkowska', '12')\n",
    "client_manager.add_client('12345678903', 'Jacek', 'Pablo', '1/1/2000', False, 'Warszawa', 'Javowa', '1')"
   ]
  },
  {
   "cell_type": "code",
   "execution_count": 4,
   "metadata": {},
   "outputs": [
    {
     "name": "stdout",
     "output_type": "stream",
     "text": [
      "Klient o takim peselu już istnieje!\n"
     ]
    }
   ],
   "source": [
    "# Proba dodania klienta o takim samym peselu\n",
    "client_manager.add_client('12345678903', 'Jacek', 'Pablo', date(2020, 1, 1), False, 'Warszawa', 'Javowa', '1')"
   ]
  },
  {
   "cell_type": "code",
   "execution_count": 5,
   "metadata": {},
   "outputs": [
    {
     "name": "stdout",
     "output_type": "stream",
     "text": [
      "Pesel musi mieć 11 znaków!\n"
     ]
    }
   ],
   "source": [
    "# Proba dodania klienta o blednym peselu\n",
    "client_manager.add_client('1234567890', 'Jacek', 'Pablo', date(2020, 1, 1), False, 'Warszawa', 'Javowa', '1')"
   ]
  },
  {
   "cell_type": "code",
   "execution_count": 6,
   "metadata": {},
   "outputs": [
    {
     "name": "stdout",
     "output_type": "stream",
     "text": [
      "Szukany klient: Client(pesel='12345678901', first_name='Jan', last_name='Kowalski', birth_date='1/1/2010', client_type=NormalClientType(type='normal'), address=Address(city='Warszawa', street='Koszykowa', number='1'), is_premium=False, _id=UUID('4c8d0639-7e12-4a89-8aed-1fff4e57be0f'))\n"
     ]
    }
   ],
   "source": [
    "client = client_manager.get_client(address={'city': 'Warszawa', 'street': 'Koszykowa', 'number': '1'})\n",
    "print(\"Szukany klient:\", client)"
   ]
  },
  {
   "cell_type": "code",
   "execution_count": 8,
   "metadata": {},
   "outputs": [
    {
     "name": "stdout",
     "output_type": "stream",
     "text": [
      "Klient o wskazanych parametrach nie istnieje!\n"
     ]
    }
   ],
   "source": [
    "# Proba znalezienia klienta o blednym id\n",
    "client = client_manager.get_client(_id = 100)"
   ]
  },
  {
   "cell_type": "code",
   "execution_count": 9,
   "metadata": {},
   "outputs": [
    {
     "name": "stdout",
     "output_type": "stream",
     "text": [
      "Wszyscy klienci: [Client(pesel='12345678901', first_name='Jan', last_name='Kowalski', birth_date='1/1/2010', client_type=NormalClientType(type='normal'), address=Address(city='Warszawa', street='Koszykowa', number='1'), is_premium=False, _id=UUID('4c8d0639-7e12-4a89-8aed-1fff4e57be0f')), Client(pesel='12345678902', first_name='Michal', last_name='Nowak', birth_date='1/1/2010', client_type=PremiumClientType(type='premium'), address=Address(city='Lodz', street='Piotrkowska', number='12'), is_premium=True, _id=UUID('b446249a-02f6-4950-a9cd-feb9c2489a86')), Client(pesel='12345678903', first_name='Jacek', last_name='Pablo', birth_date='1/1/2000', client_type=NormalClientType(type='normal'), address=Address(city='Warszawa', street='Javowa', number='1'), is_premium=False, _id=UUID('2bca1af3-b311-49a1-931e-bb90c2b8c7f5'))]\n"
     ]
    }
   ],
   "source": [
    "clients = client_manager.get_all_clients()\n",
    "print(\"Wszyscy klienci:\", clients)"
   ]
  },
  {
   "cell_type": "code",
   "execution_count": 10,
   "metadata": {},
   "outputs": [
    {
     "name": "stdout",
     "output_type": "stream",
     "text": [
      "Pomyslnie usunieto klienta o UUID: 4c8d0639-7e12-4a89-8aed-1fff4e57be0f\n"
     ]
    }
   ],
   "source": [
    "client_manager.remove_client(client_manager.get_client(address={'city': 'Warszawa', 'street': 'Koszykowa', 'number': '1'})._id)"
   ]
  },
  {
   "cell_type": "code",
   "execution_count": 12,
   "metadata": {},
   "outputs": [
    {
     "name": "stdout",
     "output_type": "stream",
     "text": [
      "Klient o takim id nie istnieje!\n"
     ]
    }
   ],
   "source": [
    "# Proba usuniecia klienta o blednym id\n",
    "client_manager.remove_client(_id = 100)"
   ]
  },
  {
   "cell_type": "code",
   "execution_count": 13,
   "metadata": {},
   "outputs": [
    {
     "name": "stdout",
     "output_type": "stream",
     "text": [
      "Lista po usunieciu: [Client(pesel='12345678902', first_name='Michal', last_name='Nowak', birth_date='1/1/2010', client_type=PremiumClientType(type='premium'), address=Address(city='Lodz', street='Piotrkowska', number='12'), is_premium=True, _id=UUID('b446249a-02f6-4950-a9cd-feb9c2489a86')), Client(pesel='12345678903', first_name='Jacek', last_name='Pablo', birth_date='1/1/2000', client_type=NormalClientType(type='normal'), address=Address(city='Warszawa', street='Javowa', number='1'), is_premium=False, _id=UUID('2bca1af3-b311-49a1-931e-bb90c2b8c7f5'))]\n"
     ]
    }
   ],
   "source": [
    "clients = client_manager.get_all_clients()\n",
    "print(\"Lista po usunieciu:\", clients)"
   ]
  },
  {
   "cell_type": "code",
   "execution_count": 14,
   "metadata": {},
   "outputs": [
    {
     "data": {
      "text/plain": [
       "2"
      ]
     },
     "execution_count": 14,
     "metadata": {},
     "output_type": "execute_result"
    }
   ],
   "source": [
    "client_manager.get_size()"
   ]
  },
  {
   "cell_type": "code",
   "execution_count": 3,
   "metadata": {},
   "outputs": [
    {
     "name": "stdout",
     "output_type": "stream",
     "text": [
      "Klient o wskazanych parametrach nie istnieje!\n"
     ]
    },
    {
     "ename": "AttributeError",
     "evalue": "'NoneType' object has no attribute '_id'",
     "output_type": "error",
     "traceback": [
      "\u001b[1;31m---------------------------------------------------------------------------\u001b[0m",
      "\u001b[1;31mAttributeError\u001b[0m                            Traceback (most recent call last)",
      "Cell \u001b[1;32mIn [3], line 1\u001b[0m\n\u001b[1;32m----> 1\u001b[0m client_manager\u001b[39m.\u001b[39mupdate_client_address(client_manager\u001b[39m.\u001b[39;49mget_client(address\u001b[39m=\u001b[39;49m{\u001b[39m'\u001b[39;49m\u001b[39mcity\u001b[39;49m\u001b[39m'\u001b[39;49m: \u001b[39m'\u001b[39;49m\u001b[39mLodz\u001b[39;49m\u001b[39m'\u001b[39;49m, \u001b[39m'\u001b[39;49m\u001b[39mstreet\u001b[39;49m\u001b[39m'\u001b[39;49m: \u001b[39m'\u001b[39;49m\u001b[39mPiotrkowska\u001b[39;49m\u001b[39m'\u001b[39;49m, \u001b[39m'\u001b[39;49m\u001b[39mnumber\u001b[39;49m\u001b[39m'\u001b[39;49m: \u001b[39m'\u001b[39;49m\u001b[39m12\u001b[39;49m\u001b[39m'\u001b[39;49m})\u001b[39m.\u001b[39;49m_id, \u001b[39m'\u001b[39m\u001b[39mWarszawa\u001b[39m\u001b[39m'\u001b[39m, \u001b[39m'\u001b[39m\u001b[39mPiotrkowska\u001b[39m\u001b[39m'\u001b[39m, \u001b[39m'\u001b[39m\u001b[39m12\u001b[39m\u001b[39m'\u001b[39m)\n",
      "\u001b[1;31mAttributeError\u001b[0m: 'NoneType' object has no attribute '_id'"
     ]
    }
   ],
   "source": [
    "client_manager.update_client_address(client_manager.get_client(address={'city': 'Lodz', 'street': 'Piotrkowska', 'number': '12'})._id, 'Warszawa', 'Piotrkowska', '12')"
   ]
  },
  {
   "cell_type": "code",
   "execution_count": 3,
   "metadata": {},
   "outputs": [
    {
     "name": "stdout",
     "output_type": "stream",
     "text": [
      "Pomyslnie zaaktualizowane dane klienta o UUID: b446249a-02f6-4950-a9cd-feb9c2489a86\n"
     ]
    }
   ],
   "source": [
    "client_manager.change_client_type(client_manager.get_client(address={'city': 'Warszawa', 'street': 'Piotrkowska', 'number': '12'})._id)"
   ]
  }
 ],
 "metadata": {
  "kernelspec": {
   "display_name": "Python 3.9.13 ('.venv': venv)",
   "language": "python",
   "name": "python3"
  },
  "language_info": {
   "codemirror_mode": {
    "name": "ipython",
    "version": 3
   },
   "file_extension": ".py",
   "mimetype": "text/x-python",
   "name": "python",
   "nbconvert_exporter": "python",
   "pygments_lexer": "ipython3",
   "version": "3.9.13"
  },
  "orig_nbformat": 4,
  "vscode": {
   "interpreter": {
    "hash": "1a3dcfdc6086f7ad2e1c7814093f153dafc84e88516604a39178048c87334baf"
   }
  }
 },
 "nbformat": 4,
 "nbformat_minor": 2
}
