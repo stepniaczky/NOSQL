{
 "cells": [
  {
   "cell_type": "code",
   "execution_count": null,
   "metadata": {},
   "outputs": [],
   "source": [
    "import os\n",
    "os.chdir(\"..\")\n",
    "from src.db import get_session, init_db, get_engine_from_env\n",
    "from datetime import date\n",
    "\n",
    "engine = get_engine_from_env()\n",
    "init_db(engine)\n",
    "sessionmaker = get_session(engine)"
   ]
  },
  {
   "cell_type": "code",
   "execution_count": null,
   "metadata": {},
   "outputs": [],
   "source": [
    "from src.managers.client_manager import ClientManager\n",
    "client_manager = ClientManager(sessionmaker)"
   ]
  },
  {
   "cell_type": "code",
   "execution_count": null,
   "metadata": {},
   "outputs": [],
   "source": [
    "client_manager.add_client('12345678901', 'Jan', 'Kowalski', date(2001, 1, 1), False, 'Warszawa', 'Koszykowa', '1')\n",
    "client_manager.add_client('12345678902', 'Michal', 'Nowak', date(2010, 1, 1), True, 'Lodz', 'Piotrkowska', '12')\n",
    "client_manager.add_client('12345678903', 'Jacek', 'Pablo', date(2020, 1, 1), False, 'Warszawa', 'Javowa', '1')"
   ]
  },
  {
   "cell_type": "code",
   "execution_count": null,
   "metadata": {},
   "outputs": [],
   "source": [
    "# Proba dodania klienta o takim samym peselu\n",
    "client_manager.add_client('12345678903', 'Jacek', 'Pablo', date(2020, 1, 1), False, 'Warszawa', 'Javowa', '1')"
   ]
  },
  {
   "cell_type": "code",
   "execution_count": null,
   "metadata": {},
   "outputs": [],
   "source": [
    "# Proba dodania klienta o blednym peselu\n",
    "client_manager.add_client('1234567890', 'Jacek', 'Pablo', date(2020, 1, 1), False, 'Warszawa', 'Javowa', '1')"
   ]
  },
  {
   "cell_type": "code",
   "execution_count": null,
   "metadata": {},
   "outputs": [],
   "source": [
    "client = client_manager.get_client(1)\n",
    "print(\"Szukany klient:\", client)"
   ]
  },
  {
   "cell_type": "code",
   "execution_count": null,
   "metadata": {},
   "outputs": [],
   "source": [
    "# Proba znalezienia klienta o blednym id\n",
    "client = client_manager.get_client(100)"
   ]
  },
  {
   "cell_type": "code",
   "execution_count": null,
   "metadata": {},
   "outputs": [],
   "source": [
    "clients = client_manager.get_all_clients()\n",
    "print(\"Wszyscy klienci:\", clients)"
   ]
  },
  {
   "cell_type": "code",
   "execution_count": null,
   "metadata": {},
   "outputs": [],
   "source": [
    "client_manager.remove_client(1)"
   ]
  },
  {
   "cell_type": "code",
   "execution_count": null,
   "metadata": {},
   "outputs": [],
   "source": [
    "# Proba usuniecia klienta o blednym id\n",
    "client_manager.remove_client(100)"
   ]
  },
  {
   "cell_type": "code",
   "execution_count": null,
   "metadata": {},
   "outputs": [],
   "source": [
    "clients = client_manager.get_all_clients()\n",
    "print(\"Lista po usunieciu:\", clients)"
   ]
  },
  {
   "cell_type": "code",
   "execution_count": null,
   "metadata": {},
   "outputs": [],
   "source": [
    "# Czyszczenie bazy\n",
    "client_manager.remove_client(2)\n",
    "client_manager.remove_client(3)\n",
    "client_manager.get_all_clients()"
   ]
  }
 ],
 "metadata": {
  "kernelspec": {
   "display_name": "Python 3.9.13 ('.venv': venv)",
   "language": "python",
   "name": "python3"
  },
  "language_info": {
   "codemirror_mode": {
    "name": "ipython",
    "version": 3
   },
   "file_extension": ".py",
   "mimetype": "text/x-python",
   "name": "python",
   "nbconvert_exporter": "python",
   "pygments_lexer": "ipython3",
   "version": "3.9.13"
  },
  "orig_nbformat": 4,
  "vscode": {
   "interpreter": {
    "hash": "1a3dcfdc6086f7ad2e1c7814093f153dafc84e88516604a39178048c87334baf"
   }
  }
 },
 "nbformat": 4,
 "nbformat_minor": 2
}
