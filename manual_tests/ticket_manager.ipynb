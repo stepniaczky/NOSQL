{
 "cells": [
  {
   "cell_type": "code",
   "execution_count": null,
   "metadata": {},
   "outputs": [],
   "source": [
    "import os\n",
    "os.chdir(\"..\")\n",
    "\n",
    "from src.db import get_session, init_db, get_engine_from_env\n",
    "from datetime import date\n",
    "\n",
    "engine = get_engine_from_env()\n",
    "init_db(engine)\n",
    "sessionmaker = get_session(engine)"
   ]
  },
  {
   "cell_type": "code",
   "execution_count": null,
   "metadata": {},
   "outputs": [],
   "source": [
    "from src.managers.ticket_manager import TicketManager\n",
    "from src.managers.client_manager import ClientManager\n",
    "from src.managers.movie_manager import MovieManager\n",
    "\n",
    "ticket_manager = TicketManager(sessionmaker)\n",
    "client_manager = ClientManager(sessionmaker)\n",
    "movie_manager = MovieManager(sessionmaker)"
   ]
  },
  {
   "cell_type": "code",
   "execution_count": null,
   "metadata": {},
   "outputs": [],
   "source": [
    "client_manager.add_client('12345678901', 'Jan', 'Kowalski', date(2020, 1, 1), False, 'Warszawa', 'Koszykowa', '1')\n",
    "client_manager.add_client('12345678903', 'Jacek', 'Pablo', date(2001, 1, 1), False, 'Warszawa', 'Javowa', '1')\n",
    "client_manager.add_client('12345678904', 'Jacek', 'Pablo', date(2001, 1, 1), False, 'Warszawa', 'Javowa', '1')\n",
    "\n",
    "movie_manager.add_movie('Pulp Fiction', 'Dramat', 18, 1, 1)"
   ]
  },
  {
   "cell_type": "code",
   "execution_count": null,
   "metadata": {},
   "outputs": [],
   "source": [
    "# Zbyt mlody na film\n",
    "ticket_manager.buy_ticket(1, 1)"
   ]
  },
  {
   "cell_type": "code",
   "execution_count": null,
   "metadata": {},
   "outputs": [],
   "source": [
    "ticket_manager.buy_ticket(2, 1)"
   ]
  },
  {
   "cell_type": "code",
   "execution_count": null,
   "metadata": {},
   "outputs": [],
   "source": [
    "ticket_manager.buy_ticket(3, 1)"
   ]
  },
  {
   "cell_type": "code",
   "execution_count": null,
   "metadata": {},
   "outputs": [],
   "source": [
    "ticket_manager.get_ticket(1)"
   ]
  },
  {
   "cell_type": "code",
   "execution_count": null,
   "metadata": {},
   "outputs": [],
   "source": [
    "# proba znalezienia nieistniejacego biletu\n",
    "ticket_manager.get_ticket(100)"
   ]
  },
  {
   "cell_type": "code",
   "execution_count": null,
   "metadata": {},
   "outputs": [],
   "source": [
    "ticket_manager.get_all_tickets()"
   ]
  }
 ],
 "metadata": {
  "kernelspec": {
   "display_name": "Python 3.9.13 ('.venv': venv)",
   "language": "python",
   "name": "python3"
  },
  "language_info": {
   "codemirror_mode": {
    "name": "ipython",
    "version": 3
   },
   "file_extension": ".py",
   "mimetype": "text/x-python",
   "name": "python",
   "nbconvert_exporter": "python",
   "pygments_lexer": "ipython3",
   "version": "3.9.13"
  },
  "orig_nbformat": 4,
  "vscode": {
   "interpreter": {
    "hash": "1a3dcfdc6086f7ad2e1c7814093f153dafc84e88516604a39178048c87334baf"
   }
  }
 },
 "nbformat": 4,
 "nbformat_minor": 2
}
