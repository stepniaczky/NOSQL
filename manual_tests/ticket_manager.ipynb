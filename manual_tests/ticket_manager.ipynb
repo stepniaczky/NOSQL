{
 "cells": [
  {
   "cell_type": "code",
   "execution_count": 1,
   "metadata": {},
   "outputs": [],
   "source": [
    "import os\n",
    "os.chdir(\"..\")\n",
    "from src.db import config, get_collection\n",
    "from datetime import date\n",
    "\n",
    "config()"
   ]
  },
  {
   "cell_type": "code",
   "execution_count": 2,
   "metadata": {},
   "outputs": [],
   "source": [
    "from src.managers.ticket_manager import TicketManager\n",
    "from src.managers.client_manager import ClientManager\n",
    "from src.managers.movie_manager import MovieManager\n",
    "\n",
    "ticket_manager = TicketManager()\n",
    "client_manager = ClientManager()\n",
    "movie_manager = MovieManager()"
   ]
  },
  {
   "cell_type": "code",
   "execution_count": 3,
   "metadata": {},
   "outputs": [
    {
     "name": "stdout",
     "output_type": "stream",
     "text": [
      "Klient o takim peselu już istnieje!\n",
      "Klient o takim peselu już istnieje!\n",
      "Klient o takim peselu już istnieje!\n",
      "Pomyslnie dodano film o UUID: 9945d905-b920-4953-9578-ba6c7ca0218a\n"
     ]
    }
   ],
   "source": [
    "client_manager.add_client('12345678901', 'Jan', 'Kowalski', '1/1/2020', False, 'Warszawa', 'Koszykowa', '1')\n",
    "client_manager.add_client('12345678903', 'Jacek', 'Pablo', '1/1/2001', False, 'Warszawa', 'Javowa', '1')\n",
    "client_manager.add_client('12345678904', 'Jacek', 'Pablo', '1/1/2001', False, 'Warszawa', 'Javowa', '1')\n",
    "\n",
    "movie_manager.add_movie('Pulp Fiction', 'Dramat', 18, 3, 1)"
   ]
  },
  {
   "cell_type": "code",
   "execution_count": 4,
   "metadata": {},
   "outputs": [
    {
     "name": "stdout",
     "output_type": "stream",
     "text": [
      "<class 'list'>\n",
      "Pomyslnie dodano bilet o UUID: dfbe47c6-63a0-424f-a87f-3a312a42c521\n"
     ]
    }
   ],
   "source": [
    "# Zbyt mlody na film\n",
    "client_id = client_manager.get_client(pesel = '12345678903')._id\n",
    "movie_id = movie_manager.get_movie(hall = 3)._id\n",
    "ticket_manager.buy_ticket(client_id, movie_id)"
   ]
  },
  {
   "cell_type": "code",
   "execution_count": 6,
   "metadata": {},
   "outputs": [],
   "source": [
    "ticket_manager.buy_ticket(2, 1)"
   ]
  },
  {
   "cell_type": "code",
   "execution_count": 7,
   "metadata": {},
   "outputs": [
    {
     "name": "stdout",
     "output_type": "stream",
     "text": [
      "Niestety skonczyly sie miejsca na ten film!\n"
     ]
    }
   ],
   "source": [
    "ticket_manager.buy_ticket(3, 1)"
   ]
  },
  {
   "cell_type": "code",
   "execution_count": null,
   "metadata": {},
   "outputs": [],
   "source": [
    "ticket_manager.get_ticket(1)"
   ]
  },
  {
   "cell_type": "code",
   "execution_count": 5,
   "metadata": {},
   "outputs": [
    {
     "data": {
      "text/plain": [
       "Ticket(date='01/11/2022', client_id=UUID('2bca1af3-b311-49a1-931e-bb90c2b8c7f5'), movie_id=UUID('9945d905-b920-4953-9578-ba6c7ca0218a'), base_price=25, _id=UUID('dfbe47c6-63a0-424f-a87f-3a312a42c521'))"
      ]
     },
     "execution_count": 5,
     "metadata": {},
     "output_type": "execute_result"
    }
   ],
   "source": [
    "# proba znalezienia nieistniejacego biletu\n",
    "ticket_manager.get_ticket(client_id = '2bca1af3-b311-49a1-931e-bb90c2b8c7f5')"
   ]
  },
  {
   "cell_type": "code",
   "execution_count": 3,
   "metadata": {},
   "outputs": [
    {
     "data": {
      "text/plain": [
       "[Ticket(date='01/11/2022', client_id=UUID('2bca1af3-b311-49a1-931e-bb90c2b8c7f5'), movie_id=UUID('9945d905-b920-4953-9578-ba6c7ca0218a'), base_price=25, _id=UUID('dfbe47c6-63a0-424f-a87f-3a312a42c521'))]"
      ]
     },
     "execution_count": 3,
     "metadata": {},
     "output_type": "execute_result"
    }
   ],
   "source": [
    "ticket_manager.get_all_tickets()"
   ]
  },
  {
   "cell_type": "code",
   "execution_count": 7,
   "metadata": {},
   "outputs": [
    {
     "data": {
      "text/plain": [
       "1"
      ]
     },
     "execution_count": 7,
     "metadata": {},
     "output_type": "execute_result"
    }
   ],
   "source": [
    "ticket_manager.get_size()"
   ]
  }
 ],
 "metadata": {
  "kernelspec": {
   "display_name": "Python 3.9.13 ('.venv': venv)",
   "language": "python",
   "name": "python3"
  },
  "language_info": {
   "codemirror_mode": {
    "name": "ipython",
    "version": 3
   },
   "file_extension": ".py",
   "mimetype": "text/x-python",
   "name": "python",
   "nbconvert_exporter": "python",
   "pygments_lexer": "ipython3",
   "version": "3.9.13"
  },
  "orig_nbformat": 4,
  "vscode": {
   "interpreter": {
    "hash": "1a3dcfdc6086f7ad2e1c7814093f153dafc84e88516604a39178048c87334baf"
   }
  }
 },
 "nbformat": 4,
 "nbformat_minor": 2
}
