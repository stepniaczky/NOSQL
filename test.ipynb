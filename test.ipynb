{
 "cells": [
  {
   "cell_type": "code",
   "execution_count": 1,
   "metadata": {},
   "outputs": [],
   "source": [
    "from src.models.client import Client\n",
    "from src.models.address import Address\n",
    "from src.models.client_type import ClientType, ReducedClientType\n",
    "from src.models.ticket import Ticket\n",
    "from src.models.movie import Movie"
   ]
  },
  {
   "cell_type": "code",
   "execution_count": 2,
   "metadata": {},
   "outputs": [],
   "source": [
    "client = Client(pesel='12345678901', first_name='Jan', last_name='Kowalski', birth_date='01/01/1990', client_type = ReducedClientType(), address = Address(city='Warszawa', street='Koszykowa', number=6))\n"
   ]
  },
  {
   "cell_type": "code",
   "execution_count": 4,
   "metadata": {},
   "outputs": [
    {
     "data": {
      "text/plain": [
       "{'pesel': '12345678901',\n",
       " 'first_name': 'Jan',\n",
       " 'last_name': 'Kowalski',\n",
       " 'birth_date': '01/01/1990',\n",
       " 'client_type': ReducedClientType(type='reduced'),\n",
       " 'address': Address(city='Warszawa', street='Koszykowa', number=6),\n",
       " 'id': UUID('e189d919-15a6-4efd-b0a8-7644dffae0ad')}"
      ]
     },
     "execution_count": 4,
     "metadata": {},
     "output_type": "execute_result"
    }
   ],
   "source": [
    "client.__dict__"
   ]
  },
  {
   "cell_type": "code",
   "execution_count": 2,
   "metadata": {},
   "outputs": [
    {
     "ename": "NameError",
     "evalue": "name 'client' is not defined",
     "output_type": "error",
     "traceback": [
      "\u001b[1;31m---------------------------------------------------------------------------\u001b[0m",
      "\u001b[1;31mNameError\u001b[0m                                 Traceback (most recent call last)",
      "Cell \u001b[1;32mIn [2], line 3\u001b[0m\n\u001b[0;32m      1\u001b[0m \u001b[39mfrom\u001b[39;00m \u001b[39mdataclasses\u001b[39;00m \u001b[39mimport\u001b[39;00m asdict\n\u001b[1;32m----> 3\u001b[0m client\u001b[39m.\u001b[39mclient_type\u001b[39m.\u001b[39mapply_discount(\u001b[39m25\u001b[39m)\n",
      "\u001b[1;31mNameError\u001b[0m: name 'client' is not defined"
     ]
    }
   ],
   "source": [
    "from dataclasses import asdict\n",
    "\n",
    "client.client_type.apply_discount(25)"
   ]
  },
  {
   "cell_type": "code",
   "execution_count": 3,
   "metadata": {},
   "outputs": [],
   "source": [
    "movie = Movie(title='Titanic', genre='Drama', min_age=18, hall=5, free_slots=10)"
   ]
  },
  {
   "cell_type": "code",
   "execution_count": 3,
   "metadata": {},
   "outputs": [],
   "source": [
    "movie.hall = 6"
   ]
  },
  {
   "cell_type": "code",
   "execution_count": 4,
   "metadata": {},
   "outputs": [],
   "source": [
    "ticket = Ticket(date='31/10/2022', client_id=client.id, movie_id=movie.id)\n"
   ]
  },
  {
   "cell_type": "code",
   "execution_count": 6,
   "metadata": {},
   "outputs": [
    {
     "data": {
      "text/plain": [
       "Ticket(date=datetime.date(2022, 10, 31), client_id=UUID('5f074574-ff00-48bf-b582-7c1804566d35'), movie_id=UUID('49d61b44-3b2d-4b35-ae8a-6575dca33448'), base_price=25.0, id=UUID('0511f5d4-8152-4331-a5b4-8d6c7bb4b8c1'))"
      ]
     },
     "execution_count": 6,
     "metadata": {},
     "output_type": "execute_result"
    }
   ],
   "source": [
    "ticket"
   ]
  }
 ],
 "metadata": {
  "kernelspec": {
   "display_name": "Python 3.9.13 ('.venv': venv)",
   "language": "python",
   "name": "python3"
  },
  "language_info": {
   "codemirror_mode": {
    "name": "ipython",
    "version": 3
   },
   "file_extension": ".py",
   "mimetype": "text/x-python",
   "name": "python",
   "nbconvert_exporter": "python",
   "pygments_lexer": "ipython3",
   "version": "3.9.13"
  },
  "orig_nbformat": 4,
  "vscode": {
   "interpreter": {
    "hash": "1a3dcfdc6086f7ad2e1c7814093f153dafc84e88516604a39178048c87334baf"
   }
  }
 },
 "nbformat": 4,
 "nbformat_minor": 2
}
